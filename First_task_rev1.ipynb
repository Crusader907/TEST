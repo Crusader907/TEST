{
  "nbformat": 4,
  "nbformat_minor": 0,
  "metadata": {
    "colab": {
      "provenance": []
    },
    "kernelspec": {
      "name": "python3",
      "display_name": "Python 3"
    },
    "language_info": {
      "name": "python"
    }
  },
  "cells": [
    {
      "cell_type": "code",
      "execution_count": 1,
      "metadata": {
        "colab": {
          "base_uri": "https://localhost:8080/"
        },
        "id": "9aNQype3fRT6",
        "outputId": "64d8a6b2-efe7-4f09-bb36-8347c7226d31"
      },
      "outputs": [
        {
          "output_type": "stream",
          "name": "stdout",
          "text": [
            "Цена должна быть больше нуля\n",
            "Шоколадный батончик, добавка: орехи\n",
            "Обычный шоколадный батончик\n",
            "Шоколадный батончик, 50.0 рублей\n",
            "Шоколадный батончик, 30.0 рублей\n"
          ]
        }
      ],
      "source": [
        "class Chocolate:\n",
        "    def __init__(self, price: float, additive: str = None):\n",
        "        # Проверка цены\n",
        "        if price <= 0:\n",
        "            raise ValueError(\"Цена должна быть больше нуля\")\n",
        "        self.price = price\n",
        "        self.additive = additive\n",
        "\n",
        "    def show_my_chocolate(self):\n",
        "        # Вывод информации о батончике\n",
        "        if self.additive:\n",
        "            print(f\"Шоколадный батончик, добавка: {self.additive}\")\n",
        "        else:\n",
        "            print(\"Обычный шоколадный батончик\")\n",
        "\n",
        "    def __str__(self):\n",
        "        # Переопределение метода __str__\n",
        "        return f\"Шоколадный батончик, {self.price} рублей\"\n",
        "\n",
        "# Демонстрация работы класса\n",
        "try:\n",
        "    # Создаем объекты с разными аргументами\n",
        "    choco1 = Chocolate(50.0, \"орехи\")\n",
        "    choco2 = Chocolate(30.0)\n",
        "    choco3 = Chocolate(-10.0)  # Это должно вызвать исключение ValueError\n",
        "except ValueError as e:\n",
        "    print(e)\n",
        "\n",
        "# Выводим информацию о батончиках\n",
        "choco1.show_my_chocolate()  # Шоколадный батончик, добавка: орехи\n",
        "choco2.show_my_chocolate()  # Обычный шоколадный батончик\n",
        "\n",
        "# Используем print для вывода информации о цене\n",
        "print(choco1)  # Шоколадный батончик, 50.0 рублей\n",
        "print(choco2)  # Шоколадный батончик, 30.0 рублей"
      ]
    }
  ]
}